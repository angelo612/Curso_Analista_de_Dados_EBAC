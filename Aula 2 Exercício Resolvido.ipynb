{
  "nbformat": 4,
  "nbformat_minor": 0,
  "metadata": {
    "colab": {
      "name": "modulo_2_exercicios.ipynb",
      "provenance": [],
      "collapsed_sections": []
    },
    "kernelspec": {
      "name": "python3",
      "display_name": "Python 3"
    }
  },
  "cells": [
    {
      "cell_type": "markdown",
      "metadata": {
        "id": "KJqp9AANOCtf"
      },
      "source": [
        "<img src=\"https://raw.githubusercontent.com/andre-marcos-perez/ebac-course-utils/main/media/logo/newebac_logo_black_half.png\" alt=\"ebac-logo\">\n",
        "\n",
        "---\n",
        "\n",
        "# **Módulo 02** | Python: Estruturas de Dados\n",
        "Caderno de **Exercícios**<br> \n",
        "Professor [André Perez](https://www.linkedin.com/in/andremarcosperez/)\n",
        "\n",
        "---"
      ]
    },
    {
      "cell_type": "markdown",
      "metadata": {
        "id": "d9jDtUbDOE1-"
      },
      "source": [
        "# **Tópicos**\n",
        "\n",
        "<ol type=\"1\">\n",
        "  <li>Listas;</li>\n",
        "  <li>Conjuntos;</li>\n",
        "  <li>Dicionários.</li>\n",
        "</ol>"
      ]
    },
    {
      "cell_type": "markdown",
      "metadata": {
        "id": "SmoHgt-lwkpD"
      },
      "source": [
        "---"
      ]
    },
    {
      "cell_type": "markdown",
      "metadata": {
        "id": "GABI6OW8OfQ2"
      },
      "source": [
        "# **Exercícios**"
      ]
    },
    {
      "cell_type": "markdown",
      "metadata": {
        "id": "muD1vxozykSC"
      },
      "source": [
        "## 1\\. Listas"
      ]
    },
    {
      "cell_type": "markdown",
      "metadata": {
        "id": "ahrFfCuBxJKs"
      },
      "source": [
        "Criei uma lista chamada `filmes` com o nome dos 10 primeiros filmes mais bem avaliados no site no [IMDB](https://www.imdb.com/chart/top/). Imprima o resultado."
      ]
    },
    {
      "cell_type": "code",
      "metadata": {
        "id": "OgL6Hv3bzOHI",
        "colab": {
          "base_uri": "https://localhost:8080/"
        },
        "outputId": "5d5fc47e-d579-4e40-cc45-273709c00e3e"
      },
      "source": [
        "filmes = ['Um Sonho de Liberdade',' O Poderoso Chefão',' O Poderoso Chefão II',' Batman: O Cavaleiro das Trevas','12 Homens e uma Sentença',' A Lista de Schindler',' O Senhor dos Anéis: O Retorno do Rei','Pulp Fiction: Tempo de Violência',' Três Homens em Conflito',' O Senhor dos Anéis: A Sociedade do Anel']\n",
        "print(filmes)"
      ],
      "execution_count": 38,
      "outputs": [
        {
          "output_type": "stream",
          "name": "stdout",
          "text": [
            "['Um Sonho de Liberdade', ' O Poderoso Chefão', ' O Poderoso Chefão II', ' Batman: O Cavaleiro das Trevas', '12 Homens e uma Sentença', ' A Lista de Schindler', ' O Senhor dos Anéis: O Retorno do Rei', 'Pulp Fiction: Tempo de Violência', ' Três Homens em Conflito', ' O Senhor dos Anéis: A Sociedade do Anel']\n"
          ]
        }
      ]
    },
    {
      "cell_type": "markdown",
      "metadata": {
        "id": "KI9zQRT2xa7m"
      },
      "source": [
        "Simule a movimentação do *ranking*. Utilize os métodos `insert` e `pop` para trocar a posição do primeiro e do segundo filme da lista. Imprima o resultado.\n",
        "\n"
      ]
    },
    {
      "cell_type": "code",
      "metadata": {
        "colab": {
          "base_uri": "https://localhost:8080/"
        },
        "id": "iwiNhDAxAGdr",
        "outputId": "8cad1512-4581-4cf5-b657-4a1c0168d278"
      },
      "source": [
        "filmes.pop(0)\n",
        "filmes.insert(10,\"Um Sonho de Liberdade\")\n",
        "filmes.pop(0)\n",
        "filmes.insert(10,\" O Poderoso Chefão\")\n",
        "\n",
        "print(filmes)"
      ],
      "execution_count": 39,
      "outputs": [
        {
          "output_type": "stream",
          "name": "stdout",
          "text": [
            "[' O Poderoso Chefão II', ' Batman: O Cavaleiro das Trevas', '12 Homens e uma Sentença', ' A Lista de Schindler', ' O Senhor dos Anéis: O Retorno do Rei', 'Pulp Fiction: Tempo de Violência', ' Três Homens em Conflito', ' O Senhor dos Anéis: A Sociedade do Anel', 'Um Sonho de Liberdade', ' O Poderoso Chefão']\n"
          ]
        }
      ]
    },
    {
      "cell_type": "markdown",
      "metadata": {
        "id": "zMN1Q3jdwoJm"
      },
      "source": [
        "---"
      ]
    },
    {
      "cell_type": "markdown",
      "metadata": {
        "id": "lxa5L6uF0ZJE"
      },
      "source": [
        "## 2\\. Conjuntos"
      ]
    },
    {
      "cell_type": "markdown",
      "metadata": {
        "id": "9JahS2Kj0d5u"
      },
      "source": [
        "Aconteceu um erro no seu *ranking*. Simule a duplicação dos três últimos filmes da lista. Imprima o resultado."
      ]
    },
    {
      "cell_type": "code",
      "metadata": {
        "id": "BnjnLBNC6PGe",
        "colab": {
          "base_uri": "https://localhost:8080/"
        },
        "outputId": "10070d09-6db8-4555-b230-4d0705bfae26"
      },
      "source": [
        "filmes_2 = ['Um Sonho de Liberdade',' O Poderoso Chefão',' O Poderoso Chefão II',' Batman: O Cavaleiro das Trevas','12 Homens e uma Sentença',' A Lista de Schindler',' O Senhor dos Anéis: O Retorno do Rei','Pulp Fiction: Tempo de Violência',' Três Homens em Conflito',' O Senhor dos Anéis: A Sociedade do Anel','Pulp Fiction: Tempo de Violência',' Três Homens em Conflito',' O Senhor dos Anéis: A Sociedade do Anel']\n",
        "\n",
        "print(filmes_2)"
      ],
      "execution_count": 40,
      "outputs": [
        {
          "output_type": "stream",
          "name": "stdout",
          "text": [
            "['Um Sonho de Liberdade', ' O Poderoso Chefão', ' O Poderoso Chefão II', ' Batman: O Cavaleiro das Trevas', '12 Homens e uma Sentença', ' A Lista de Schindler', ' O Senhor dos Anéis: O Retorno do Rei', 'Pulp Fiction: Tempo de Violência', ' Três Homens em Conflito', ' O Senhor dos Anéis: A Sociedade do Anel', 'Pulp Fiction: Tempo de Violência', ' Três Homens em Conflito', ' O Senhor dos Anéis: A Sociedade do Anel']\n"
          ]
        }
      ]
    },
    {
      "cell_type": "markdown",
      "metadata": {
        "id": "suxTfCJB6ZiX"
      },
      "source": [
        "Utiliza a conversão `set` e `list` para remover os valores duplicados. Imprima o resultado. "
      ]
    },
    {
      "cell_type": "code",
      "metadata": {
        "id": "ZvUGN-0n6joM",
        "colab": {
          "base_uri": "https://localhost:8080/"
        },
        "outputId": "cc11695f-8bdf-4c96-b739-8f5619fa849b"
      },
      "source": [
        "filmes_2 = set(filmes_2)\n",
        "print(type(filmes_2))\n",
        "print(filmes_2)"
      ],
      "execution_count": 36,
      "outputs": [
        {
          "output_type": "stream",
          "name": "stdout",
          "text": [
            "<class 'set'>\n",
            "{' Batman: O Cavaleiro das Trevas', 'Pulp Fiction: Tempo de Violência', '12 Homens e uma Sentença', ' Três Homens em Conflito', 'Um Sonho de Liberdade', ' O Senhor dos Anéis: O Retorno do Rei', ' O Poderoso Chefão II', ' A Lista de Schindler', ' O Senhor dos Anéis: A Sociedade do Anel', ' O Poderoso Chefão'}\n"
          ]
        }
      ]
    },
    {
      "cell_type": "markdown",
      "metadata": {
        "id": "ShkK35eQ6pAM"
      },
      "source": [
        "---"
      ]
    },
    {
      "cell_type": "markdown",
      "metadata": {
        "id": "EL_FzmxL6rTv"
      },
      "source": [
        "## 3\\. Dicionários"
      ]
    },
    {
      "cell_type": "markdown",
      "metadata": {
        "id": "i8l0gFqRCpfT"
      },
      "source": [
        "Repita os exercícios da parte 1 (listas). Os elementos da lista `filmes` devem ser dicionários no seguinte formato: `{'nome': <nome-do-filme>, 'ano': <ano do filme>}, 'sinopse': <sinopse do filme>}`. "
      ]
    },
    {
      "cell_type": "code",
      "metadata": {
        "colab": {
          "base_uri": "https://localhost:8080/"
        },
        "id": "Eo9VW9DHCMVh",
        "outputId": "a0c1b7ef-aa96-44cc-bf81-5cc8e26eed8d"
      },
      "source": [
        "filmes = {\n",
        "    'Um Sonho de Liberdade':{\n",
        "        'ano':1994,\n",
        "        'sinopse':'Dois homens presos se reúnem ao longo de vários anos, encontrando consolo e eventual redenção através de atos de decência comum.'},\n",
        "    'O Poderoso Chefão':{\n",
        "        'ano':1972,\n",
        "        'sinopse':'O patriarca idoso de uma dinastia do crime organizado transfere o controle de seu império clandestino para seu filho relutante..'},\n",
        "    'O Poderoso Chefão II':{\n",
        "        'ano':1974,\n",
        "        'sinopse':'Em 1950, Michael Corleone, agora à frente da família, tenta expandir o negócio do crime a Las Vegas, Los Angeles e Cuba. Paralelamente, é revelada a história de Vito Corleone, e de como saiu da Sicília e chegou a Nova Iorque.'},\n",
        "    'Batman: O Cavaleiro das Trevas':{\n",
        "        'ano':2008,\n",
        "        'sinopse':'Quando uma ameaça conhecida como O Coringa surge de seu passado, causa estragos e caos nas pessoas de Gotham. O Cavaleiro das Trevas deve aceitar um dos maiores testes para combater a injustiça..'},\n",
        "    '12 Homens e uma Sentença':{\n",
        "        'ano':1957,\n",
        "        'sinopse':'Um jurado que se aposenta tenta evitar um erro judicial forçando seus colegas a reconsiderarem como evidências.'},\n",
        "     'A Lista de Schindler':{\n",
        "        'ano':1957,\n",
        "        'sinopse':'Um jurado que se aposenta tenta evitar um erro judicial forçando seus colegas a reconsiderarem como evidências.'},\n",
        "     'O Senhor dos Anéis: O Retorno do Rei':{\n",
        "        'ano':2003,\n",
        "        'sinopse':'Gandalf e Aragorn lideram o Mundo dos Homens contra o exército de Sauron para desviar o olhar de Frodo e Sam quando eles se aproximam da Montanha da Perdição com o Um Anel.'},\n",
        "     'Pulp Fiction: Tempo de Violência':{\n",
        "        'ano':1994,\n",
        "        'sinopse':'As vidas de dois assassinos da máfia, um boxeador, um gângster e sua esposa, e um par de bandidos se entrelaçam em quatro histórias de violência e redenção..'},\n",
        "     'Três Homens em Conflito':{\n",
        "        'ano':1996,\n",
        "        'sinopse':'Um impostor se junta com dois homens para encontrar fortuna num cemitério remoto.'},\n",
        "      ' O Senhor dos Anéis: A Sociedade do Anel':{\n",
        "        'ano':2001,\n",
        "        'sinopse':'Um homem hobbit do Condado e oito companheiros partem em uma jornada para destruir o poderoso Um Anel e salvar a Terra-média das Trevas.'},  \n",
        "}\n",
        "\n",
        "print(type(filmes))\n"
      ],
      "execution_count": 43,
      "outputs": [
        {
          "output_type": "stream",
          "name": "stdout",
          "text": [
            "<class 'dict'>\n"
          ]
        }
      ]
    }
  ]
}
